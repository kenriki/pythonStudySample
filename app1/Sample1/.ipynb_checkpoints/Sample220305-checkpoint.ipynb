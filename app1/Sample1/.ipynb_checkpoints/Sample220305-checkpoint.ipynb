{
 "cells": [
  {
   "cell_type": "code",
   "execution_count": 7,
   "id": "88d05a69",
   "metadata": {},
   "outputs": [
    {
     "ename": "NameError",
     "evalue": "name 'html2' is not defined",
     "output_type": "error",
     "traceback": [
      "\u001b[1;31m---------------------------------------------------------------------------\u001b[0m",
      "\u001b[1;31mNameError\u001b[0m                                 Traceback (most recent call last)",
      "Input \u001b[1;32mIn [7]\u001b[0m, in \u001b[0;36m<module>\u001b[1;34m\u001b[0m\n\u001b[0;32m     64\u001b[0m         f\u001b[38;5;241m.\u001b[39mwrite(\u001b[38;5;124m\"\u001b[39m\u001b[38;5;124m</body>\u001b[39m\u001b[38;5;124m\"\u001b[39m)\n\u001b[0;32m     65\u001b[0m         f\u001b[38;5;241m.\u001b[39mwrite(\u001b[38;5;124m\"\u001b[39m\u001b[38;5;124m</html>\u001b[39m\u001b[38;5;124m\"\u001b[39m)\n\u001b[1;32m---> 67\u001b[0m webbrowser\u001b[38;5;241m.\u001b[39mopen(\u001b[43mhtml2\u001b[49m)\n",
      "\u001b[1;31mNameError\u001b[0m: name 'html2' is not defined"
     ]
    }
   ],
   "source": [
    "import webbrowser\n",
    "import pathlib\n",
    "import openpyxl\n",
    "import os\n",
    "\n",
    "# ブックを取得\n",
    "book = openpyxl.load_workbook('入力シート.xlsx')\n",
    "# シートを取得 \n",
    "sheet1 = book['Sheet1']\n",
    "# セルを取得\n",
    "title = sheet1['B2'].value\n",
    "subTitle = sheet1['B3'].value\n",
    "\n",
    "table = \"\";\n",
    "if sheet1['B4'].value == \"○\":\n",
    "  loopNumC = sheet1['C5'].value\n",
    "  i=1\n",
    "  table = \"<div><table border='1'>\"\n",
    "  for num in range(loopNumC):\n",
    "    arrayB = \"B\"+str(5+i)\n",
    "    arrayC = \"C\"+str(5+i)\n",
    "    arrayD = \"D\"+str(5+i)\n",
    "    arrayE = \"E\"+str(5+i)\n",
    "    arrayF = \"F\"+str(5+i)\n",
    "    tableDataRow = sheet1[arrayB].value\n",
    "    tableDataA_i=sheet1[arrayC].value\n",
    "    tableDataB_i=sheet1[arrayD].value\n",
    "    tableDataC_i=sheet1[arrayE].value\n",
    "    tableDataD_i=sheet1[arrayF].value\n",
    "    table+=\"<tr><td>\"+str(tableDataRow)+\"</td>\"\n",
    "    table+=\"<td \"+'id=\"'+tableDataC_i+'\"'+' class='+tableDataD_i+'\"'\">\"+tableDataA_i+\"</td>\"\n",
    "    table+=\"<td>\"+tableDataB_i+\"</td></tr>\"\n",
    "    i=i+1\n",
    "  table+=\"</table></div>\"\n",
    "\n",
    "\n",
    "#シート変数.cell(row=行No.,column=列No.).value\n",
    "\n",
    "index = sheet1['B1'].value\n",
    "\n",
    "html= pathlib.Path(\".\\\\\"+index+\".html\")\n",
    "\n",
    "html.touch()\n",
    "\n",
    "head = \"<DOCTYPE html><html lang='ja'><head>\"\n",
    "head += \"<meta name='viewport' content='width=device-width,initial-scale=1'>\"\n",
    "head += \"<link rel='stylesheet' href='./default.css'>\"\n",
    "head += \"<title>\"+title+\"</title>\"\n",
    "head += \"</head>\"\n",
    "cssFile= pathlib.Path(\".\\\\default.css\")\n",
    "\n",
    "with open(cssFile, mode=\"w\") as f:\n",
    "        f.write(\"html,body{background:rgb(29,29,29);color:rgb(200,200,200);}table{width:\"+sheet1['E5'].value+\";height:\"+sheet1['F5'].value+\";}\")\n",
    "\n",
    "with open(html, mode=\"w\") as f:\n",
    "        f.write(head)\n",
    "        f.write(\"<body>\")\n",
    "        f.write(\"<h1>\"+title+\"</h1>\")\n",
    "        f.write(\"<h2>\"+subTitle+\"</h2>\")\n",
    "        if table!=\"\":\n",
    "        \tf.write(table)\n",
    "        else: \n",
    "            f.write(\"\")\n",
    "        f.write(\"</body>\")\n",
    "        f.write(\"</html>\")\n",
    "        \n",
    "webbrowser.open(html)"
   ]
  },
  {
   "cell_type": "code",
   "execution_count": null,
   "id": "455ecd4d",
   "metadata": {},
   "outputs": [],
   "source": []
  }
 ],
 "metadata": {
  "kernelspec": {
   "display_name": "Python 3 (ipykernel)",
   "language": "python",
   "name": "python3"
  },
  "language_info": {
   "codemirror_mode": {
    "name": "ipython",
    "version": 3
   },
   "file_extension": ".py",
   "mimetype": "text/x-python",
   "name": "python",
   "nbconvert_exporter": "python",
   "pygments_lexer": "ipython3",
   "version": "3.10.1"
  }
 },
 "nbformat": 4,
 "nbformat_minor": 5
}
