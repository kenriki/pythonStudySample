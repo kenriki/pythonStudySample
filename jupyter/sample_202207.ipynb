{
 "cells": [
  {
   "cell_type": "markdown",
   "id": "51bfff14",
   "metadata": {},
   "source": [
    "# Python基本まとめ"
   ]
  },
  {
   "cell_type": "code",
   "execution_count": 5,
   "id": "8d697305",
   "metadata": {},
   "outputs": [
    {
     "name": "stdout",
     "output_type": "stream",
     "text": [
      "hello world !\n"
     ]
    }
   ],
   "source": [
    "def main():\n",
    "    input1=\"hello world !\"\n",
    "    print(input1)\n",
    "    \n",
    "if __name__ == \"__main__\":\n",
    "    main()"
   ]
  },
  {
   "cell_type": "code",
   "execution_count": 5,
   "id": "ba1cdc79",
   "metadata": {},
   "outputs": [
    {
     "name": "stdout",
     "output_type": "stream",
     "text": [
      "パーが選ばれました\n"
     ]
    }
   ],
   "source": [
    "import random\n",
    "\n",
    "def main():\n",
    "    input1=\"hello world !\"\n",
    "    \n",
    "    input1 = hantei(str(random.choice([0, 1, 2])))\n",
    "        \n",
    "    print(input1)\n",
    "    \n",
    "def hantei(n):\n",
    "    result = \"\"\n",
    "    if n == \"0\":\n",
    "        result = 'グー'\n",
    "    elif n == \"1\":\n",
    "        result = 'チョキ'\n",
    "    else:\n",
    "        result = 'パー'\n",
    "        \n",
    "    str1 = result + \"が選ばれました\"\n",
    "    return str1\n",
    "\n",
    "if __name__ == \"__main__\":\n",
    "    main()"
   ]
  },
  {
   "cell_type": "code",
   "execution_count": null,
   "id": "b552495e",
   "metadata": {},
   "outputs": [],
   "source": []
  }
 ],
 "metadata": {
  "kernelspec": {
   "display_name": "Python 3.10.1 64-bit",
   "language": "python",
   "name": "python3"
  },
  "language_info": {
   "codemirror_mode": {
    "name": "ipython",
    "version": 3
   },
   "file_extension": ".py",
   "mimetype": "text/x-python",
   "name": "python",
   "nbconvert_exporter": "python",
   "pygments_lexer": "ipython3",
   "version": "3.10.1"
  },
  "vscode": {
   "interpreter": {
    "hash": "fb4569285eef3a3450cb62085a5b1e0da4bce0af555edc33dcf29baf3acc1368"
   }
  }
 },
 "nbformat": 4,
 "nbformat_minor": 5
}
